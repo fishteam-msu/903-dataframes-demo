{
 "cells": [
  {
   "cell_type": "markdown",
   "metadata": {},
   "source": [
    "# Intro to `numpy` and `pandas`\n",
    "`numpy` and `pandas` are two essential libraries for data manipulation and analysis in Python.\n",
    "\n",
    "`numpy` provides support for large, multi-dimensional arrays and matrices, along with a \n",
    "collection of mathematical functions to operate on these arrays in an efficient way.\n",
    "\n",
    "`pandas` builds on top of numpy to provide some additional functionality and user-friendliness. It also provides data structures like `DataFrames`, which are more flexible than `numpy` arrays and can handle heterogeneous data types (similar to a spreadsheet or SQL table)."
   ]
  },
  {
   "cell_type": "code",
   "execution_count": 1,
   "metadata": {},
   "outputs": [
    {
     "name": "stdout",
     "output_type": "stream",
     "text": [
      "numpy version: 2.1.0\n",
      "pandas version: 2.2.2\n"
     ]
    }
   ],
   "source": [
    "import pandas as pd\n",
    "import numpy as np\n",
    "\n",
    "# Checking the versions of numpy and pandas that we have installed\n",
    "print(f\"numpy version: {np.__version__}\")\n",
    "print(f\"pandas version: {pd.__version__}\")"
   ]
  },
  {
   "cell_type": "markdown",
   "metadata": {},
   "source": [
    "## Matrices and Arrays with Numpy\n",
    "The core of numpy is the `ndarray` class, which is a flexible n-dimensional array that can be used to represent vectors, matrices, or higher-dimensional arrays. We can create an object of this class by calling the `array` function and passing a list or tuple of values. In the below case, we pass a \"list of lists\" to create a 2D array (matrix)."
   ]
  },
  {
   "cell_type": "code",
   "execution_count": 7,
   "metadata": {},
   "outputs": [
    {
     "name": "stdout",
     "output_type": "stream",
     "text": [
      "2D Array (Matrix):\n",
      "[[1 2 3]\n",
      " [4 5 6]\n",
      " [7 8 9]]\n",
      "\n",
      "\n",
      "Shape: (3, 3)\n",
      "Dimensions: 2\n"
     ]
    }
   ],
   "source": [
    "matrix = np.array([[1, 2, 3],\n",
    "                   [4, 5, 6],\n",
    "                   [7, 8, 9]])\n",
    "\n",
    "print(\"2D Array (Matrix):\")\n",
    "print(matrix)\n",
    "print(\"\\n\")\n",
    "\n",
    "# Use the \"shape\" attribute to get the dimensions of the matrix\n",
    "print(\"Shape:\", matrix.shape)\n",
    "\n",
    "# Use the \"ndim\" attribute to get the number of dimensions of the matrix\n",
    "print(\"Dimensions:\", matrix.ndim)"
   ]
  },
  {
   "cell_type": "markdown",
   "metadata": {},
   "source": [
    "### Basic Operations with Numpy\n",
    "Numpy provides a wide range of functions for performing operations on arrays. Here are some of the most common ones:"
   ]
  },
  {
   "cell_type": "code",
   "execution_count": 8,
   "metadata": {},
   "outputs": [
    {
     "name": "stdout",
     "output_type": "stream",
     "text": [
      "Sum of all elements: 45\n",
      "Mean of all elements: 5.0\n",
      "\n",
      "\n",
      "Matrix multiplication result:\n",
      "[[ 7  7  3]\n",
      " [19 16  9]\n",
      " [31 25 15]]\n"
     ]
    }
   ],
   "source": [
    "print(\"Sum of all elements:\", np.sum(matrix))\n",
    "print(\"Mean of all elements:\", np.mean(matrix))\n",
    "\n",
    "# Matrix multiplication\n",
    "matrix_b = np.array([[2, 0, 1],\n",
    "                     [1, 2, 1],\n",
    "                     [1, 1, 0]])\n",
    "\n",
    "result = np.dot(matrix, matrix_b)\n",
    "print(\"\\n\")\n",
    "print(\"Matrix multiplication result:\")\n",
    "print(result)"
   ]
  },
  {
   "cell_type": "markdown",
   "metadata": {},
   "source": [
    "## `DataFrames` with Pandas\n",
    "`DataFrames` are the primary data structure in `pandas`. They are similar to tables in SQL or spreadsheets in Excel, but with some additional functionality. We can create a `DataFrame` by passing a dictionary of lists to the `DataFrame` constructor. Each key in the dictionary represents a column name, and the corresponding list contains the values for that column."
   ]
  },
  {
   "cell_type": "code",
   "execution_count": 11,
   "metadata": {},
   "outputs": [
    {
     "name": "stdout",
     "output_type": "stream",
     "text": [
      "DataFrame:\n",
      "      Name  Age          City\n",
      "0     Dave   25  East Lansing\n",
      "1     Anna   40  Grand Rapids\n",
      "2  Charlie   35       Detroit\n",
      "\n",
      "\n",
      "|    | Name    |   Age | City         |\n",
      "|---:|:--------|------:|:-------------|\n",
      "|  0 | Dave    |    25 | East Lansing |\n",
      "|  1 | Anna    |    40 | Grand Rapids |\n",
      "|  2 | Charlie |    35 | Detroit      |\n"
     ]
    }
   ],
   "source": [
    "data = {\n",
    "    'Name': ['Dave', 'Anna', 'Charlie'],\n",
    "    'Age': [25, 40, 35],\n",
    "    'City': ['East Lansing', 'Grand Rapids', 'Detroit']\n",
    "}\n",
    "\n",
    "df = pd.DataFrame(data)\n",
    "print(\"DataFrame:\")\n",
    "print(df)\n",
    "\n",
    "# You can also neatly print a DataFrame using the \"to_markdown\" method. You'll need to install the \"tabulate\" package to use this method.\n",
    "print(\"\\n\")\n",
    "print(df.to_markdown())"
   ]
  },
  {
   "cell_type": "markdown",
   "metadata": {},
   "source": [
    "### Some Basic Operations on `DataFrames`"
   ]
  },
  {
   "cell_type": "code",
   "execution_count": 12,
   "metadata": {},
   "outputs": [
    {
     "name": "stdout",
     "output_type": "stream",
     "text": [
      "\n",
      "DataFrame info:\n",
      "<class 'pandas.core.frame.DataFrame'>\n",
      "RangeIndex: 3 entries, 0 to 2\n",
      "Data columns (total 3 columns):\n",
      " #   Column  Non-Null Count  Dtype \n",
      "---  ------  --------------  ----- \n",
      " 0   Name    3 non-null      object\n",
      " 1   Age     3 non-null      int64 \n",
      " 2   City    3 non-null      object\n",
      "dtypes: int64(1), object(2)\n",
      "memory usage: 204.0+ bytes\n",
      "\n",
      "Descriptive statistics:\n",
      "             Age\n",
      "count   3.000000\n",
      "mean   33.333333\n",
      "std     7.637626\n",
      "min    25.000000\n",
      "25%    30.000000\n",
      "50%    35.000000\n",
      "75%    37.500000\n",
      "max    40.000000\n",
      "\n",
      "Selecting 'Name' column:\n",
      "0       Dave\n",
      "1       Anna\n",
      "2    Charlie\n",
      "Name: Name, dtype: object\n",
      "\n",
      "Selecting rows where Age > 28:\n",
      "      Name  Age          City\n",
      "1     Anna   40  Grand Rapids\n",
      "2  Charlie   35       Detroit\n"
     ]
    }
   ],
   "source": [
    "# Basic DataFrame operations\n",
    "print(\"\\nDataFrame info:\")\n",
    "df.info()\n",
    "\n",
    "print(\"\\nDescriptive statistics:\")\n",
    "print(df.describe())\n",
    "\n",
    "# Selecting data\n",
    "print(\"\\nSelecting 'Name' column:\")\n",
    "print(df['Name'])\n",
    "\n",
    "print(\"\\nSelecting rows where Age > 28:\")\n",
    "print(df[df['Age'] > 28])"
   ]
  },
  {
   "cell_type": "markdown",
   "metadata": {},
   "source": [
    "### Indexing with Pandas\n",
    "One of the things you'll be doing most frequently with your data is indexing it (selecting certain rows or columns based on particular filters). Pandas provides several ways to index into `DataFrames`. We can use the `iloc` method to access rows and columns by their integer position. We can also use the `loc` method to access rows and columns by their labels. \n",
    "\n",
    "Before we get going, let's add some additional rows and columns to the `DataFrame` to make it more interesting."
   ]
  },
  {
   "cell_type": "code",
   "execution_count": 17,
   "metadata": {},
   "outputs": [
    {
     "name": "stdout",
     "output_type": "stream",
     "text": [
      "Updated DataFrame:\n",
      "       Name  Age              City Occupation    Salary\n",
      "0      Dave   25      East Lansing        NaN       NaN\n",
      "1      Anna   40      Grand Rapids        NaN       NaN\n",
      "2   Charlie   35           Detroit        NaN       NaN\n",
      "3       Eve   22         Ann Arbor   Engineer   70000.0\n",
      "4     Frank   28             Flint     Doctor  120000.0\n",
      "5     Grace   32         Kalamazoo     Artist   50000.0\n",
      "6    Hannah   26           Lansing     Lawyer   90000.0\n",
      "7       Ivy   24          Muskegon      Nurse   60000.0\n",
      "8      Jack   29           Pontiac    Teacher   55000.0\n",
      "9     Kathy   31           Saginaw  Scientist   80000.0\n",
      "10      Leo   27     Traverse City       Chef   45000.0\n",
      "11     Mona   33            Warren   Designer   75000.0\n",
      "12     Nina   30           Wyoming  Architect   85000.0\n",
      "13    Oscar   34         Ypsilanti      Pilot   95000.0\n",
      "14     Paul   36  Sterling Heights   Musician   65000.0\n"
     ]
    }
   ],
   "source": [
    "# Adding 12 additional rows and 2 additional columns to the \"df\" dataframe\n",
    "\n",
    "# New data to be added\n",
    "additional_data = {\n",
    "    'Name': ['Eve', 'Frank', 'Grace', 'Hannah', 'Ivy', 'Jack', 'Kathy', 'Leo', 'Mona', 'Nina', 'Oscar', 'Paul'],\n",
    "    'Age': [22, 28, 32, 26, 24, 29, 31, 27, 33, 30, 34, 36],\n",
    "    'City': ['Ann Arbor', 'Flint', 'Kalamazoo', 'Lansing', 'Muskegon', 'Pontiac', 'Saginaw', 'Traverse City', 'Warren', 'Wyoming', 'Ypsilanti', 'Sterling Heights'],\n",
    "    'Occupation': ['Engineer', 'Doctor', 'Artist', 'Lawyer', 'Nurse', 'Teacher', 'Scientist', 'Chef', 'Designer', 'Architect', 'Pilot', 'Musician'],\n",
    "    'Salary': [70000, 120000, 50000, 90000, 60000, 55000, 80000, 45000, 75000, 85000, 95000, 65000]\n",
    "}\n",
    "\n",
    "# Creating a DataFrame from the additional data\n",
    "additional_df = pd.DataFrame(additional_data)\n",
    "\n",
    "# Concatenating the original df with the additional_df using the \"concat\" function\n",
    "df = pd.concat([df, additional_df], ignore_index=True)\n",
    "\n",
    "print(\"Updated DataFrame:\")\n",
    "print(df)"
   ]
  },
  {
   "cell_type": "code",
   "execution_count": 18,
   "metadata": {},
   "outputs": [
    {
     "name": "stdout",
     "output_type": "stream",
     "text": [
      "25\n",
      "Dave\n"
     ]
    }
   ],
   "source": [
    "# Indexing using loc\n",
    "# Returns the value in the first (zero-indexed) row in the 'Age' column\n",
    "print(df.loc[0, 'Age']) \n",
    "\n",
    "# Indexing using iloc\n",
    "# Returns the value in the first (zero-indexed) row in the first (zero-indexed) column (\"Name\")\n",
    "print(df.iloc[0, 0])"
   ]
  },
  {
   "cell_type": "markdown",
   "metadata": {},
   "source": [
    "You might have noticed that the DataFrame is missing the Occupation and Salary for the first three rows. Let's add that information to the DataFrame using the indexing methods we just learned."
   ]
  },
  {
   "cell_type": "code",
   "execution_count": 19,
   "metadata": {},
   "outputs": [
    {
     "name": "stdout",
     "output_type": "stream",
     "text": [
      "Updated DataFrame with Occupation and Salary for the first two rows:\n",
      "       Name  Age              City      Occupation    Salary\n",
      "0      Dave   25      East Lansing  Data Scientist  110000.0\n",
      "1      Anna   40      Grand Rapids         Manager   95000.0\n",
      "2   Charlie   35           Detroit             NaN       NaN\n",
      "3       Eve   22         Ann Arbor        Engineer   70000.0\n",
      "4     Frank   28             Flint          Doctor  120000.0\n",
      "5     Grace   32         Kalamazoo          Artist   50000.0\n",
      "6    Hannah   26           Lansing          Lawyer   90000.0\n",
      "7       Ivy   24          Muskegon           Nurse   60000.0\n",
      "8      Jack   29           Pontiac         Teacher   55000.0\n",
      "9     Kathy   31           Saginaw       Scientist   80000.0\n",
      "10      Leo   27     Traverse City            Chef   45000.0\n",
      "11     Mona   33            Warren        Designer   75000.0\n",
      "12     Nina   30           Wyoming       Architect   85000.0\n",
      "13    Oscar   34         Ypsilanti           Pilot   95000.0\n",
      "14     Paul   36  Sterling Heights        Musician   65000.0\n"
     ]
    }
   ],
   "source": [
    "# Adding \"Occupation\" and \"Salary\" information to the first two rows using the .loc method\n",
    "df.loc[0, ['Occupation', 'Salary']] = ['Data Scientist', 110000]\n",
    "df.loc[1, ['Occupation', 'Salary']] = ['Manager', 95000]\n",
    "\n",
    "print(\"Updated DataFrame with Occupation and Salary for the first two rows:\")\n",
    "print(df)"
   ]
  },
  {
   "cell_type": "markdown",
   "metadata": {},
   "source": [
    "Now, let's update Charlie's information in the dataframe using a variant of the loc method that indexes based on the *value* of a particular column in a row."
   ]
  },
  {
   "cell_type": "code",
   "execution_count": 20,
   "metadata": {},
   "outputs": [
    {
     "name": "stdout",
     "output_type": "stream",
     "text": [
      "Updated DataFrame with Charlie's information:\n",
      "       Name  Age              City      Occupation    Salary\n",
      "0      Dave   25      East Lansing  Data Scientist  110000.0\n",
      "1      Anna   40      Grand Rapids         Manager   95000.0\n",
      "2   Charlie   35           Detroit         Analyst   85000.0\n",
      "3       Eve   22         Ann Arbor        Engineer   70000.0\n",
      "4     Frank   28             Flint          Doctor  120000.0\n",
      "5     Grace   32         Kalamazoo          Artist   50000.0\n",
      "6    Hannah   26           Lansing          Lawyer   90000.0\n",
      "7       Ivy   24          Muskegon           Nurse   60000.0\n",
      "8      Jack   29           Pontiac         Teacher   55000.0\n",
      "9     Kathy   31           Saginaw       Scientist   80000.0\n",
      "10      Leo   27     Traverse City            Chef   45000.0\n",
      "11     Mona   33            Warren        Designer   75000.0\n",
      "12     Nina   30           Wyoming       Architect   85000.0\n",
      "13    Oscar   34         Ypsilanti           Pilot   95000.0\n",
      "14     Paul   36  Sterling Heights        Musician   65000.0\n"
     ]
    }
   ],
   "source": [
    "# Updating Charlie's information in the DataFrame\n",
    "df.loc[df['Name'] == 'Charlie', ['Occupation', 'Salary']] = ['Analyst', 85000]\n",
    "\n",
    "print(\"Updated DataFrame with Charlie's information:\")\n",
    "print(df)"
   ]
  },
  {
   "cell_type": "code",
   "execution_count": 22,
   "metadata": {},
   "outputs": [
    {
     "name": "stdout",
     "output_type": "stream",
     "text": [
      "Rows where Salary is greater than 80000:\n",
      "       Name  Age          City      Occupation    Salary\n",
      "0      Dave   25  East Lansing  Data Scientist  110000.0\n",
      "1      Anna   40  Grand Rapids         Manager   95000.0\n",
      "2   Charlie   35       Detroit         Analyst   85000.0\n",
      "4     Frank   28         Flint          Doctor  120000.0\n",
      "6    Hannah   26       Lansing          Lawyer   90000.0\n",
      "12     Nina   30       Wyoming       Architect   85000.0\n",
      "13    Oscar   34     Ypsilanti           Pilot   95000.0\n",
      "\n",
      "\n",
      "Rows where Age is between 30 and 37:\n",
      "       Name  Age              City Occupation   Salary\n",
      "2   Charlie   35           Detroit    Analyst  85000.0\n",
      "5     Grace   32         Kalamazoo     Artist  50000.0\n",
      "9     Kathy   31           Saginaw  Scientist  80000.0\n",
      "11     Mona   33            Warren   Designer  75000.0\n",
      "12     Nina   30           Wyoming  Architect  85000.0\n",
      "13    Oscar   34         Ypsilanti      Pilot  95000.0\n",
      "14     Paul   36  Sterling Heights   Musician  65000.0\n"
     ]
    }
   ],
   "source": [
    "# Example 1: Indexing using a condition\n",
    "# Selecting rows where the 'Salary' is greater than 80000\n",
    "high_salary_df = df[df['Salary'] > 80000]\n",
    "print(\"Rows where Salary is greater than 80000:\")\n",
    "print(high_salary_df)\n",
    "\n",
    "# Example 2: Indexing using a condition\n",
    "# Selecting rows where the 'Age' is between 30 and 37\n",
    "age_between_30_and_37_df = df[(df['Age'] >= 30) & (df['Age'] <= 37)]\n",
    "\n",
    "print(\"\\n\")\n",
    "print(\"Rows where Age is between 30 and 37:\")\n",
    "print(age_between_30_and_37_df)"
   ]
  },
  {
   "cell_type": "markdown",
   "metadata": {},
   "source": [
    "## Comparing Pandas to R Packages\n",
    "We won't have time to get into the details of how `pandas` compares to R packages like `dplyr` and `tidyr`, but if you're familiar with those packages, you'll find that `pandas` provides similar functionality for data manipulation and analysis in Python. For more information about this, you can see [this link](https://pandas.pydata.org/docs/getting_started/comparison/comparison_with_r.html)"
   ]
  }
 ],
 "metadata": {
  "kernelspec": {
   "display_name": "myenv",
   "language": "python",
   "name": "python3"
  },
  "language_info": {
   "codemirror_mode": {
    "name": "ipython",
    "version": 3
   },
   "file_extension": ".py",
   "mimetype": "text/x-python",
   "name": "python",
   "nbconvert_exporter": "python",
   "pygments_lexer": "ipython3",
   "version": "3.12.2"
  }
 },
 "nbformat": 4,
 "nbformat_minor": 2
}
