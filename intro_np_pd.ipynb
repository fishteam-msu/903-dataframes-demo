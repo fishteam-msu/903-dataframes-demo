{
 "cells": [
  {
   "cell_type": "markdown",
   "metadata": {},
   "source": [
    "# Intro to `numpy` and `pandas`\n",
    "`numpy` and `pandas` are two essential libraries for data manipulation and analysis in Python.\n",
    "\n",
    "`numpy` provides support for large, multi-dimensional arrays and matrices, along with a \n",
    "collection of mathematical functions to operate on these arrays in an efficient way.\n",
    "\n",
    "`pandas` builds on top of numpy to provide some additional functionality and user-friendliness. It also provides data structures like `DataFrames`, which are more flexible than `numpy` arrays and can handle heterogeneous data types (similar to a spreadsheet or SQL table)."
   ]
  },
  {
   "cell_type": "markdown",
   "metadata": {},
   "source": []
  }
 ],
 "metadata": {
  "language_info": {
   "name": "python"
  }
 },
 "nbformat": 4,
 "nbformat_minor": 2
}
